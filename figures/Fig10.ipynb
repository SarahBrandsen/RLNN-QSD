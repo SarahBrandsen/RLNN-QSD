{
 "cells": [
  {
   "cell_type": "code",
   "execution_count": 1,
   "metadata": {},
   "outputs": [
    {
     "name": "stdout",
     "output_type": "stream",
     "text": [
      "0.7.3\n"
     ]
    }
   ],
   "source": [
    "import finalfig as ff\n",
    "import numpy as np\n",
    "import matplotlib.pyplot as plt\n",
    "import tikzplotlib as tikz"
   ]
  },
  {
   "cell_type": "code",
   "execution_count": null,
   "metadata": {},
   "outputs": [],
   "source": [
    "total_trials = 5\n",
    "train_check = 1000\n",
    "d = 2*np.ones(20)\n",
    "m = 2\n",
    "q = np.array([1/2, 1/2])\n",
    "training_trials = 1000\n",
    "rngvec = np.array([0.1, 0.2, 0.3, 0.4, 0.5])\n",
    "\n",
    "bigvec, _, _, vec_LG = ff.fulltest(total_trials, training_trials,  d, m, q, train_check, \n",
    "                                   SDP = False, LG = True, local_SDP = False, dep = False, rngvec = rngvec)"
   ]
  },
  {
   "cell_type": "code",
   "execution_count": 3,
   "metadata": {},
   "outputs": [
    {
     "data": {
      "image/png": "[encoded data removed]",
      "text/plain": [
       "<Figure size 432x288 with 1 Axes>"
      ]
     },
     "metadata": {
      "needs_background": "light"
     },
     "output_type": "display_data"
    }
   ],
   "source": [
    "import matplotlib.pyplot as plt\n",
    "import tikzplotlib as tikz\n",
    "\n",
    "vec_NN = bigvec[:,-1]\n",
    "vec_LG = np.array([vec_LG]).flatten()\n",
    "vec_NN = np.array([vec_NN]).flatten()\n",
    "\n",
    "arrinds = vec_LG.argsort()\n",
    "sorted_LG = vec_LG[arrinds]\n",
    "sorted_NN = vec_NN[arrinds]\n",
    "\n",
    "X = np.arange(total_trials)\n",
    "plt.xlabel('trial')\n",
    "plt.ylabel('Success Probability')\n",
    "plt.plot(X, sorted_LG, marker = \"s\", color = 'green', linewidth = 0, label = 'LG')\n",
    "plt.plot(X, sorted_NN, color='black', marker = \"o\", linewidth=0, label = 'RLNN')\n",
    "plt.legend(loc=\"lower right\")\n",
    "tikz.save(\"Fig10\")\n",
    "plt.show()"
   ]
  }
 ],
 "metadata": {
  "kernelspec": {
   "display_name": "Python 3",
   "language": "python",
   "name": "python3"
  },
  "language_info": {
   "codemirror_mode": {
    "name": "ipython",
    "version": 3
   },
   "file_extension": ".py",
   "mimetype": "text/x-python",
   "name": "python",
   "nbconvert_exporter": "python",
   "pygments_lexer": "ipython3",
   "version": "3.6.7"
  }
 },
 "nbformat": 4,
 "nbformat_minor": 2
}
