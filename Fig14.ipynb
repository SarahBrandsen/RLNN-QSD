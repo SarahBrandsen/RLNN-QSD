{
 "cells": [
  {
   "cell_type": "code",
   "execution_count": 1,
   "metadata": {},
   "outputs": [
    {
     "name": "stdout",
     "output_type": "stream",
     "text": [
      "0.7.3\n"
     ]
    }
   ],
   "source": [
    "import ray\n",
    "from ray import tune\n",
    "from ray.rllib.agents.ppo import PPOTrainer as Trainer\n",
    "import ray.rllib.agents.ppo.ppo as ppo\n",
    "from ray.tune.logger import pretty_print\n",
    "\n",
    "print(ray.__version__)\n",
    "import numpy as np\n",
    "import copy\n",
    "import matplotlib.pyplot as plt\n",
    "import scipy\n",
    "\n",
    "import qsd_library_last as qsdl\n",
    "\n",
    "# Common parameters for all runs\n",
    "num_gpus = 0.25\n",
    "num_workers = 4\n",
    "ray_init_kwargs = {\"object_store_memory\": 5*1024**3, \"num_cpus\": num_workers+1}"
   ]
  },
  {
   "cell_type": "code",
   "execution_count": null,
   "metadata": {},
   "outputs": [],
   "source": [
    "def U(eps):\n",
    "    return np.array([[np.cos(eps*np.pi), -np.sin(eps*np.pi)],[np.sin(eps*np.pi), np.cos(eps*np.pi)]])\n",
    "\n",
    "def rhor(rho, eps):\n",
    "    for j in range(len(rho)):\n",
    "        for k in range(len(rho[j])):\n",
    "            rho[j][k] = U(eps)@rho[j][k]@np.transpose(U(eps))\n",
    "    return rho\n",
    "\n",
    "total_trials = 3\n",
    "training_trials = 100\n",
    "evaluation_trials = 5000\n",
    "d = 2*np.ones(3)\n",
    "m = 3\n",
    "q = np.array([1/3, 1/3, 1/3])\n",
    "lr = 0.00005\n",
    "\n",
    "eps_vec = [0, 0.001, 0.005, 0.01, 0.05, 0.075, 0.1, 0.2]\n",
    "pvec = np.zeros((total_trials, len(eps_vec)))\n",
    "\n",
    "for k in range(total_trials):\n",
    "    rho, _ = qsdl.generate_initial_state(d, m, True)\n",
    "\n",
    "    defaultconfig = {\"rho\": copy.copy(rho), \"q\": copy.copy(q),  \n",
    "                 \"quantization\" : 20, \"d\" : d, \"separable\": True}\n",
    "    \n",
    "    ray.shutdown()\n",
    "    ray.init(**ray_init_kwargs)\n",
    "    config = ppo.DEFAULT_CONFIG.copy()\n",
    "    if (num_gpus > 0):\n",
    "        config[\"num_gpus\"] = num_gpus\n",
    "    config[\"num_workers\"] = num_workers\n",
    "    config[\"lr\"] = lr\n",
    "    config[\"train_batch_size\"] = 8000\n",
    "    config[\"num_sgd_iter\"] = 5\n",
    "    config[\"env_config\"] = defaultconfig\n",
    "    trainer = Trainer(config=config, env=qsdl.QSDEnv)\n",
    "    for i in range(training_trials):\n",
    "        result = trainer.train()\n",
    "        print(\"train iteration\",i+1,\"/\",training_trials,\" avg_reward =\", \n",
    "            result[\"episode_reward_mean\"],\" timesteps =\", result[\"timesteps_total\"])\n",
    "\n",
    "    for _ in range(len(eps_vec)):    \n",
    "        rew = 0\n",
    "        rhon = rhor(copy.copy(rho), eps_vec[_])\n",
    "        defaultconfig = {\"rho\": copy.copy(rhon), \"q\": copy.copy(q),  \n",
    "                 \"quantization\" : 20, \"d\" : d, \"separable\": True}\n",
    "        for i in range(evaluation_trials):\n",
    "            env=qsdl.QSDEnv(defaultconfig)\n",
    "            obs = env.reset()\n",
    "            done = False\n",
    "            while not done:\n",
    "                action = trainer.compute_action(obs)\n",
    "                obs, r, done, nn = env.step(action)\n",
    "                rew += r\n",
    "        pvec[k][_] = rew/evaluation_trials\n",
    "        print(pvec)"
   ]
  },
  {
   "cell_type": "code",
   "execution_count": 8,
   "metadata": {},
   "outputs": [
    {
     "data": {
      "image/png": "[encoded data removed]",
      "text/plain": [
       "<Figure size 432x288 with 1 Axes>"
      ]
     },
     "metadata": {
      "needs_background": "light"
     },
     "output_type": "display_data"
    }
   ],
   "source": [
    "import tikzplotlib as tikz\n",
    "for k in range(total_trials):\n",
    "    plt.plot(eps_vec, np.ones(len(eps_vec))*pvec[k][0]-pvec[k])\n",
    "plt.xscale(\"log\")\n",
    "tikz.save('noiseplot')\n",
    "plt.show()"
   ]
  }
 ],
 "metadata": {
  "hide_input": false,
  "kernelspec": {
   "display_name": "Python 3",
   "language": "python",
   "name": "python3"
  },
  "language_info": {
   "codemirror_mode": {
    "name": "ipython",
    "version": 3
   },
   "file_extension": ".py",
   "mimetype": "text/x-python",
   "name": "python",
   "nbconvert_exporter": "python",
   "pygments_lexer": "ipython3",
   "version": "3.6.7"
  },
  "toc": {
   "base_numbering": 1,
   "nav_menu": {},
   "number_sections": false,
   "sideBar": true,
   "skip_h1_title": false,
   "title_cell": "Table of Contents",
   "title_sidebar": "Contents",
   "toc_cell": false,
   "toc_position": {},
   "toc_section_display": true,
   "toc_window_display": false
  }
 },
 "nbformat": 4,
 "nbformat_minor": 2
}
