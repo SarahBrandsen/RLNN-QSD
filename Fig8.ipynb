{
 "cells": [
  {
   "cell_type": "code",
   "execution_count": 1,
   "metadata": {},
   "outputs": [
    {
     "name": "stdout",
     "output_type": "stream",
     "text": [
      "0.7.3\n"
     ]
    }
   ],
   "source": [
    "import finalfig as ff\n",
    "import numpy as np\n",
    "import copy\n",
    "import matplotlib.pyplot as plt\n",
    "import tikzplotlib as tikz\n",
    "\n",
    "import qsd_library_last as qsdl\n",
    "import sdp\n",
    "\n",
    "total_trials = 5\n",
    "train_check = 10\n",
    "d = np.array([2,2,2])\n",
    "m = 3\n",
    "q = np.array([1/3, 1/3, 1/3])\n",
    "training_trials = 200"
   ]
  },
  {
   "cell_type": "code",
   "execution_count": null,
   "metadata": {},
   "outputs": [],
   "source": [
    "vec_NN = []\n",
    "vec_NN_err = []\n",
    "vec_SDP = []\n",
    "\n",
    "total_trials = 5 \n",
    "training_trials = 200 \n",
    "evaluation_trials = 5000 \n",
    "check = 750\n",
    "d = np.array([2,2,2])\n",
    "m = 2\n",
    "q = np.array([1/2, 1/2])\n",
    "\n",
    "\n",
    "for j in range(total_trials):\n",
    "    rho, _ = qsdl.generate_initial_state(d, m)\n",
    "    vec_SDP.append(sdp.SDP(rho, q, len(d)))\n",
    "    trialvec = []\n",
    "    for _ in range(5):\n",
    "        defaultconfig = {\"rho\": copy.copy(rho), \"q\": copy.copy(q),  \n",
    "                 \"quantization\" : 20, \"d\" : d, \"separable\": True}\n",
    "        trialvec.append(ff.single_test(defaultconfig, training_trials, evaluation_trials, check))\n",
    "    vec_NN.append(np.mean(np.array([trialvec])))\n",
    "    vec_NN_err.append(np.var(np.array([trialvec])))\n",
    "    "
   ]
  },
  {
   "cell_type": "code",
   "execution_count": 3,
   "metadata": {},
   "outputs": [
    {
     "data": {
      "image/png": "[encoded data removed]",
      "text/plain": [
       "<Figure size 432x288 with 1 Axes>"
      ]
     },
     "metadata": {
      "needs_background": "light"
     },
     "output_type": "display_data"
    }
   ],
   "source": [
    "vec_SDP = np.array([vec_SDP]).flatten()\n",
    "vec_NN = np.array([vec_NN]).flatten()\n",
    "vec_NN_err = np.array([vec_NN_err]).flatten()\n",
    "\n",
    "arrinds = vec_SDP.argsort()\n",
    "sorted_SDP = vec_SDP[arrinds]\n",
    "sorted_NN = vec_NN[arrinds]\n",
    "sorted_NN_err = vec_NN_err[arrinds]\n",
    "\n",
    "X = np.arange(total_trials)\n",
    "plt.xlabel('trial')\n",
    "plt.ylabel('Success Probability')\n",
    "plt.errorbar(X, sorted_SDP, marker = \"s\", color = 'green', linewidth = 0, label = 'SDP')\n",
    "plt.errorbar(X, sorted_NN, sorted_NN_err, elinewidth=1, capsize= 5.0,  color='black', marker = \"o\", linewidth=0, label = 'RLNN')\n",
    "plt.legend(loc=\"lower right\")\n",
    "tikz.save(\"Fig7\")\n",
    "plt.show()"
   ]
  },
  {
   "cell_type": "code",
   "execution_count": null,
   "metadata": {},
   "outputs": [],
   "source": []
  }
 ],
 "metadata": {
  "kernelspec": {
   "display_name": "Python 3",
   "language": "python",
   "name": "python3"
  },
  "language_info": {
   "codemirror_mode": {
    "name": "ipython",
    "version": 3
   },
   "file_extension": ".py",
   "mimetype": "text/x-python",
   "name": "python",
   "nbconvert_exporter": "python",
   "pygments_lexer": "ipython3",
   "version": "3.6.7"
  }
 },
 "nbformat": 4,
 "nbformat_minor": 2
}
