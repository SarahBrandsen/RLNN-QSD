{
 "cells": [
  {
   "cell_type": "code",
   "execution_count": null,
   "metadata": {},
   "outputs": [],
   "source": [
    "import finalfig as ff\n",
    "import itertools\n",
    "import numpy as np\n",
    "import copy\n",
    "import matplotlib.pyplot as plt\n",
    "import tikzplotlib as tikz\n",
    "\n",
    "\n",
    "num_workers = 4\n",
    "max_n = 9\n",
    "training_trials = 150\n",
    "evaluation_trials = 7500\n",
    "check = 50\n",
    "vec_NN = []\n",
    "\n",
    "def ind_rho_func(vec):\n",
    "    rho0, rho1 = np.array([[0.85, 0],[0, 0.15]]), np.array([[0.15, 0], [0, 0.85]])\n",
    "    rhoset = np.array([rho0, rho1])\n",
    "    intvec = np.array(list(vec),dtype=int)\n",
    "    return rhoset[intvec]  \n",
    "\n",
    "def full_rho_func(n):\n",
    "    binarr =  np.array([\"\".join(seq) for seq in itertools.product(\"01\", repeat=n)])\n",
    "    return np.array([ind_rho_func(binarr[_]) for _ in range(len(binarr)) ])\n",
    "\n",
    "for j in range(2,9):\n",
    "    print(\"Starting n = \",j,\"out of\",max_n)\n",
    "    rho = full_rho_func(j)\n",
    "    q = 1/(2**j)*np.ones(2**j) \n",
    "    d = np.full(j,2) \n",
    "    defaultconfig = {\"rho\": copy.copy(rho), \"q\": copy.copy(q),  \n",
    "                 \"quantization\" : 20, \"d\" : d, \"separable\": True}\n",
    "    vec_NN.append(ff.single_test(defaultconfig, training_trials, evaluation_trials, check, num_workers = num_workers))\n",
    "    np.save('vec_NN_fig2', vec_NN)   "
   ]
  },
  {
   "cell_type": "code",
   "execution_count": 4,
   "metadata": {},
   "outputs": [
    {
     "data": {
      "image/png": "[encoded data removed]",
      "text/plain": [
       "<Figure size 432x288 with 1 Axes>"
      ]
     },
     "metadata": {
      "needs_background": "light"
     },
     "output_type": "display_data"
    }
   ],
   "source": [
    "collective = 0.85 ** np.arange(2,max_n)\n",
    "X = np.arange(2,max_n)\n",
    "plt.plot(X, collective, marker = \"s\", color = 'green', linewidth = 1, label = 'SDP')\n",
    "plt.plot(X, vec_NN, color = 'black', marker = 'o', linewidth = 1, label = 'RLNN')\n",
    "plt.xlabel('n')\n",
    "plt.ylabel('Success Probability')\n",
    "plt.legend(loc=\"upper right\")\n",
    "tikz.save(\"Fig3\")\n",
    "plt.show()"
   ]
  },
  {
   "cell_type": "code",
   "execution_count": null,
   "metadata": {},
   "outputs": [],
   "source": []
  }
 ],
 "metadata": {
  "kernelspec": {
   "display_name": "Python 3",
   "language": "python",
   "name": "python3"
  },
  "language_info": {
   "codemirror_mode": {
    "name": "ipython",
    "version": 3
   },
   "file_extension": ".py",
   "mimetype": "text/x-python",
   "name": "python",
   "nbconvert_exporter": "python",
   "pygments_lexer": "ipython3",
   "version": "3.6.7"
  }
 },
 "nbformat": 4,
 "nbformat_minor": 2
}
